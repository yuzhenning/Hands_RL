{
 "cells": [
  {
   "cell_type": "markdown",
   "id": "8f6e321c-bae8-4544-ba35-2ae291393358",
   "metadata": {},
   "source": [
    "# 第 19 章 目标导向的强化学习"
   ]
  },
  {
   "cell_type": "markdown",
   "id": "df5070ca-c426-4e13-8809-88252211c85a",
   "metadata": {},
   "source": [
    "## 19.1 简介"
   ]
  },
  {
   "cell_type": "markdown",
   "id": "077d30e2-ce8b-4a16-ab8b-19d148c5e437",
   "metadata": {},
   "source": [
    "前文已经学习了 PPO、SAC 等经典的深度强化学习算法，大部分算法都能在各自的任务中取得比较好的效果，但是它们都局限在单个任务上，换句话说，对于训练完的算法，在使用时它们都只能完成一个特定的任务。如果面对较为复杂的复合任务，之前的强化学习算法往往不容易训练出有效的策略。本章将介绍目标导向的强化学习（goal-oriented reinforcement learning，GoRL）以及该类别下的一种经典算法 HER。GoRL 可以学习一个策略，使其可以在不同的目标（goal）作为条件下奏效，以此来解决较为复杂的决策任务。"
   ]
  },
  {
   "cell_type": "markdown",
   "id": "a8203477-8e5e-4338-b1a8-0e1a334d9c8e",
   "metadata": {},
   "source": [
    "## 19.2 问题定义"
   ]
  },
  {
   "cell_type": "markdown",
   "id": "fb1e3b04-d0da-4f0e-b049-af5fa98368d0",
   "metadata": {},
   "source": [
    "在介绍概念之前，先介绍一个目标导向的强化学习的实际场景。例如，策略要操控机械臂抓取桌子上的一个物体。值得注意的是，每一次任务开始，物体的位置可能是不同的，也就是说，智能体需要完成一系列相似并不同的任务。在使用传统的强化学习算法时，采用单一策略只能抓取同一个位置的物体。对于不同的目标位置，要训练多个策略。想象一下，在悬崖漫步环境中，若目标位置变成了右上角，便只能重新训练一个策略。同一个策略无法完成一系列不同的目标。"
   ]
  },
  {
   "cell_type": "markdown",
   "id": "e5acfac2-ec84-40d8-93f3-6e68956956da",
   "metadata": {},
   "source": [
    "## 19.3 HER 算法"
   ]
  },
  {
   "cell_type": "markdown",
   "id": "ef801135-6324-48f8-b242-f4e898879de9",
   "metadata": {},
   "source": [
    "根据 19.2 节的定义，可以发现目标导向的强化学习的奖励往往是非常稀疏的。由于智能体在训练初期难以完成目标而只能得到的奖励，从而使整个算法的训练速度较慢。那么，有没有一种方法能有效地利用这些“失败”的经验呢？从这个角度出发，事后经验回放（hindsight experience replay，HER）算法于 2017 年神经信息处理系统（Neural Information Processing Systems，NeurIPS）大会中被提出，成为 GoRL 的一大经典方法。"
   ]
  },
  {
   "cell_type": "markdown",
   "id": "145b6859-e1bc-4abe-a02d-994ec4e09c7b",
   "metadata": {},
   "source": [
    "## 19.4 HER 代码实践"
   ]
  },
  {
   "cell_type": "markdown",
   "id": "6e746396-17e3-409b-8f24-0ba5a2ed737f",
   "metadata": {},
   "source": [
    "接下来看看如何实现 HER 算法。首先定义一个简单二维平面上的环境。"
   ]
  },
  {
   "cell_type": "markdown",
   "id": "30ea6e5f-c2a2-42ed-b9f8-5c36c0cb20b6",
   "metadata": {},
   "source": [
    "使用 Python 实现这个环境。导入一些需要用到的包，并且用代码来定义该环境。"
   ]
  },
  {
   "cell_type": "code",
   "execution_count": 1,
   "id": "2677c2e5-ee4e-49bb-91a1-e02169d0ae48",
   "metadata": {},
   "outputs": [],
   "source": [
    "import torch\n",
    "import torch.nn.functional as F\n",
    "import numpy as np\n",
    "import random\n",
    "from tqdm import tqdm\n",
    "import collections\n",
    "import matplotlib.pyplot as plt\n",
    "\n",
    "\n",
    "class WorldEnv:\n",
    "    def __init__(self):\n",
    "        self.distance_threshold = 0.15\n",
    "        self.action_bound = 1\n",
    "\n",
    "    def reset(self):  # 重置环境\n",
    "        # 生成一个目标状态, 坐标范围是[3.5～4.5, 3.5～4.5]\n",
    "        self.goal = np.array(\n",
    "            [4 + random.uniform(-0.5, 0.5), 4 + random.uniform(-0.5, 0.5)])\n",
    "        self.state = np.array([0, 0])  # 初始状态\n",
    "        self.count = 0\n",
    "        return np.hstack((self.state, self.goal))\n",
    "\n",
    "    def step(self, action):\n",
    "        action = np.clip(action, -self.action_bound, self.action_bound)\n",
    "        x = max(0, min(5, self.state[0] + action[0]))\n",
    "        y = max(0, min(5, self.state[1] + action[1]))\n",
    "        self.state = np.array([x, y])\n",
    "        self.count += 1\n",
    "\n",
    "        dis = np.sqrt(np.sum(np.square(self.state - self.goal)))\n",
    "        reward = -1.0 if dis > self.distance_threshold else 0\n",
    "        if dis <= self.distance_threshold or self.count == 50:\n",
    "            done = True\n",
    "        else:\n",
    "            done = False\n",
    "\n",
    "        return np.hstack((self.state, self.goal)), reward, done"
   ]
  },
  {
   "cell_type": "markdown",
   "id": "e1123dfc-4f91-4034-9f44-1ddf5184989f",
   "metadata": {},
   "source": [
    "接下来实现 DDPG 算法中用到的与 Actor 网络和 Critic 网络的网络结构相关的代码。"
   ]
  },
  {
   "cell_type": "code",
   "execution_count": 2,
   "id": "c9a0deb0-20a4-4052-b9ee-05838e1d64f7",
   "metadata": {},
   "outputs": [],
   "source": [
    "class PolicyNet(torch.nn.Module):\n",
    "    def __init__(self, state_dim, hidden_dim, action_dim, action_bound):\n",
    "        super(PolicyNet, self).__init__()\n",
    "        self.fc1 = torch.nn.Linear(state_dim, hidden_dim)\n",
    "        self.fc2 = torch.nn.Linear(hidden_dim, hidden_dim)\n",
    "        self.fc3 = torch.nn.Linear(hidden_dim, action_dim)\n",
    "        self.action_bound = action_bound  # action_bound是环境可以接受的动作最大值\n",
    "\n",
    "    def forward(self, x):\n",
    "        x = F.relu(self.fc2(F.relu(self.fc1(x))))\n",
    "        return torch.tanh(self.fc3(x)) * self.action_bound\n",
    "\n",
    "\n",
    "class QValueNet(torch.nn.Module):\n",
    "    def __init__(self, state_dim, hidden_dim, action_dim):\n",
    "        super(QValueNet, self).__init__()\n",
    "        self.fc1 = torch.nn.Linear(state_dim + action_dim, hidden_dim)\n",
    "        self.fc2 = torch.nn.Linear(hidden_dim, hidden_dim)\n",
    "        self.fc3 = torch.nn.Linear(hidden_dim, 1)\n",
    "\n",
    "    def forward(self, x, a):\n",
    "        cat = torch.cat([x, a], dim=1)  # 拼接状态和动作\n",
    "        x = F.relu(self.fc2(F.relu(self.fc1(cat))))\n",
    "        return self.fc3(x)"
   ]
  },
  {
   "cell_type": "markdown",
   "id": "9967f5d6-9616-4497-898f-3f9fd2fded1e",
   "metadata": {},
   "source": [
    "在定义好 Actor 和 Critic 的网络结构之后，来看一下 DDPG 算法的代码。这部分代码和 13.3 节中的代码基本一致，主要区别在于 13.3 节中的 DDPG 算法是在倒立摆环境中运行的，动作只有 1 维，而这里的环境中动作有 2 维，导致一小部分代码不同。读者可以先思考一下此时应该修改哪一部分代码，然后自行对比，就能找到不同之处。"
   ]
  },
  {
   "cell_type": "code",
   "execution_count": 3,
   "id": "86bc5e99-ad83-495c-a37a-baaf1606a3df",
   "metadata": {},
   "outputs": [],
   "source": [
    "class DDPG:\n",
    "    ''' DDPG算法 '''\n",
    "    def __init__(self, state_dim, hidden_dim, action_dim, action_bound,\n",
    "                 actor_lr, critic_lr, sigma, tau, gamma, device):\n",
    "        self.action_dim = action_dim\n",
    "        self.actor = PolicyNet(state_dim, hidden_dim, action_dim,\n",
    "                               action_bound).to(device)\n",
    "        self.critic = QValueNet(state_dim, hidden_dim, action_dim).to(device)\n",
    "        self.target_actor = PolicyNet(state_dim, hidden_dim, action_dim,\n",
    "                                      action_bound).to(device)\n",
    "        self.target_critic = QValueNet(state_dim, hidden_dim,\n",
    "                                       action_dim).to(device)\n",
    "        # 初始化目标价值网络并使其参数和价值网络一样\n",
    "        self.target_critic.load_state_dict(self.critic.state_dict())\n",
    "        # 初始化目标策略网络并使其参数和策略网络一样\n",
    "        self.target_actor.load_state_dict(self.actor.state_dict())\n",
    "        self.actor_optimizer = torch.optim.Adam(self.actor.parameters(),\n",
    "                                                lr=actor_lr)\n",
    "        self.critic_optimizer = torch.optim.Adam(self.critic.parameters(),\n",
    "                                                 lr=critic_lr)\n",
    "        self.gamma = gamma\n",
    "        self.sigma = sigma  # 高斯噪声的标准差,均值直接设为0\n",
    "        self.tau = tau  # 目标网络软更新参数\n",
    "        self.action_bound = action_bound\n",
    "        self.device = device\n",
    "\n",
    "    def take_action(self, state):\n",
    "        state = torch.tensor([state], dtype=torch.float).to(self.device)\n",
    "        action = self.actor(state).detach().cpu().numpy()[0]\n",
    "        # 给动作添加噪声，增加探索\n",
    "        action = action + self.sigma * np.random.randn(self.action_dim)\n",
    "        return action\n",
    "\n",
    "    def soft_update(self, net, target_net):\n",
    "        for param_target, param in zip(target_net.parameters(),\n",
    "                                       net.parameters()):\n",
    "            param_target.data.copy_(param_target.data * (1.0 - self.tau) +\n",
    "                                    param.data * self.tau)\n",
    "\n",
    "    def update(self, transition_dict):\n",
    "        states = torch.tensor(transition_dict['states'],\n",
    "                              dtype=torch.float).to(self.device)\n",
    "        actions = torch.tensor(transition_dict['actions'],\n",
    "                               dtype=torch.float).to(self.device)\n",
    "        rewards = torch.tensor(transition_dict['rewards'],\n",
    "                               dtype=torch.float).view(-1, 1).to(self.device)\n",
    "        next_states = torch.tensor(transition_dict['next_states'],\n",
    "                                   dtype=torch.float).to(self.device)\n",
    "        dones = torch.tensor(transition_dict['dones'],\n",
    "                             dtype=torch.float).view(-1, 1).to(self.device)\n",
    "\n",
    "        next_q_values = self.target_critic(next_states,\n",
    "                                           self.target_actor(next_states))\n",
    "        q_targets = rewards + self.gamma * next_q_values * (1 - dones)\n",
    "        # MSE损失函数\n",
    "        critic_loss = torch.mean(\n",
    "            F.mse_loss(self.critic(states, actions), q_targets))\n",
    "        self.critic_optimizer.zero_grad()\n",
    "        critic_loss.backward()\n",
    "        self.critic_optimizer.step()\n",
    "\n",
    "        # 策略网络就是为了使Q值最大化\n",
    "        actor_loss = -torch.mean(self.critic(states, self.actor(states)))\n",
    "        self.actor_optimizer.zero_grad()\n",
    "        actor_loss.backward()\n",
    "        self.actor_optimizer.step()\n",
    "\n",
    "        self.soft_update(self.actor, self.target_actor)  # 软更新策略网络\n",
    "        self.soft_update(self.critic, self.target_critic)  # 软更新价值网络"
   ]
  },
  {
   "cell_type": "markdown",
   "id": "4cbf0e94-f4c4-416e-85ed-9afb81670b98",
   "metadata": {},
   "source": [
    "接下来定义一个特殊的经验回放池，此时回放池内不再存储每一步的数据，而是存储一整条轨迹。这是 HER 算法中的核心部分，之后可以用 HER 算法从该经验回放池中构建新的数据来帮助策略训练。"
   ]
  },
  {
   "cell_type": "code",
   "execution_count": 4,
   "id": "8cb15c59-92dd-4eab-800b-f175a8ce55fd",
   "metadata": {},
   "outputs": [],
   "source": [
    "class Trajectory:\n",
    "    ''' 用来记录一条完整轨迹 '''\n",
    "    def __init__(self, init_state):\n",
    "        self.states = [init_state]\n",
    "        self.actions = []\n",
    "        self.rewards = []\n",
    "        self.dones = []\n",
    "        self.length = 0\n",
    "\n",
    "    def store_step(self, action, state, reward, done):\n",
    "        self.actions.append(action)\n",
    "        self.states.append(state)\n",
    "        self.rewards.append(reward)\n",
    "        self.dones.append(done)\n",
    "        self.length += 1\n",
    "\n",
    "\n",
    "class ReplayBuffer_Trajectory:\n",
    "    ''' 存储轨迹的经验回放池 '''\n",
    "    def __init__(self, capacity):\n",
    "        self.buffer = collections.deque(maxlen=capacity)\n",
    "\n",
    "    def add_trajectory(self, trajectory):\n",
    "        self.buffer.append(trajectory)\n",
    "\n",
    "    def size(self):\n",
    "        return len(self.buffer)\n",
    "\n",
    "    def sample(self, batch_size, use_her, dis_threshold=0.15, her_ratio=0.8):\n",
    "        batch = dict(states=[],\n",
    "                     actions=[],\n",
    "                     next_states=[],\n",
    "                     rewards=[],\n",
    "                     dones=[])\n",
    "        for _ in range(batch_size):\n",
    "            traj = random.sample(self.buffer, 1)[0]\n",
    "            step_state = np.random.randint(traj.length)\n",
    "            state = traj.states[step_state]\n",
    "            next_state = traj.states[step_state + 1]\n",
    "            action = traj.actions[step_state]\n",
    "            reward = traj.rewards[step_state]\n",
    "            done = traj.dones[step_state]\n",
    "\n",
    "            if use_her and np.random.uniform() <= her_ratio:\n",
    "                step_goal = np.random.randint(step_state + 1, traj.length + 1)\n",
    "                goal = traj.states[step_goal][:2]  # 使用HER算法的future方案设置目标\n",
    "                dis = np.sqrt(np.sum(np.square(next_state[:2] - goal)))\n",
    "                reward = -1.0 if dis > dis_threshold else 0\n",
    "                done = False if dis > dis_threshold else True\n",
    "                state = np.hstack((state[:2], goal))\n",
    "                next_state = np.hstack((next_state[:2], goal))\n",
    "\n",
    "            batch['states'].append(state)\n",
    "            batch['next_states'].append(next_state)\n",
    "            batch['actions'].append(action)\n",
    "            batch['rewards'].append(reward)\n",
    "            batch['dones'].append(done)\n",
    "\n",
    "        batch['states'] = np.array(batch['states'])\n",
    "        batch['next_states'] = np.array(batch['next_states'])\n",
    "        batch['actions'] = np.array(batch['actions'])\n",
    "        return batch"
   ]
  },
  {
   "cell_type": "markdown",
   "id": "467a83ca-60f7-4434-86c7-2e1fd465dc96",
   "metadata": {},
   "source": [
    "最后，便可以开始在这个有目标的环境中运行采用了 HER 的 DDPG 算法，一起来看一下效果吧。"
   ]
  },
  {
   "cell_type": "code",
   "execution_count": null,
   "id": "6ca00ed1-24fc-4a0b-84d3-a4e983f09d43",
   "metadata": {},
   "outputs": [],
   "source": [
    "actor_lr = 1e-3\n",
    "critic_lr = 1e-3\n",
    "hidden_dim = 128\n",
    "state_dim = 4\n",
    "action_dim = 2\n",
    "action_bound = 1\n",
    "sigma = 0.1\n",
    "tau = 0.005\n",
    "gamma = 0.98\n",
    "num_episodes = 2000\n",
    "n_train = 20\n",
    "batch_size = 256\n",
    "minimal_episodes = 200\n",
    "buffer_size = 10000\n",
    "device = torch.device(\"cuda\") if torch.cuda.is_available() else torch.device(\n",
    "    \"cpu\")\n",
    "\n",
    "random.seed(0)\n",
    "np.random.seed(0)\n",
    "torch.manual_seed(0)\n",
    "env = WorldEnv()\n",
    "replay_buffer = ReplayBuffer_Trajectory(buffer_size)\n",
    "agent = DDPG(state_dim, hidden_dim, action_dim, action_bound, actor_lr,\n",
    "             critic_lr, sigma, tau, gamma, device)\n",
    "\n",
    "return_list = []\n",
    "for i in range(10):\n",
    "    with tqdm(total=int(num_episodes / 10), desc='Iteration %d' % i) as pbar:\n",
    "        for i_episode in range(int(num_episodes / 10)):\n",
    "            episode_return = 0\n",
    "            state = env.reset()\n",
    "            traj = Trajectory(state)\n",
    "            done = False\n",
    "            while not done:\n",
    "                action = agent.take_action(state)\n",
    "                state, reward, done = env.step(action)\n",
    "                episode_return += reward\n",
    "                traj.store_step(action, state, reward, done)\n",
    "            replay_buffer.add_trajectory(traj)\n",
    "            return_list.append(episode_return)\n",
    "            if replay_buffer.size() >= minimal_episodes:\n",
    "                for _ in range(n_train):\n",
    "                    transition_dict = replay_buffer.sample(batch_size, True)\n",
    "                    agent.update(transition_dict)\n",
    "            if (i_episode + 1) % 10 == 0:\n",
    "                pbar.set_postfix({\n",
    "                    'episode':\n",
    "                    '%d' % (num_episodes / 10 * i + i_episode + 1),\n",
    "                    'return':\n",
    "                    '%.3f' % np.mean(return_list[-10:])\n",
    "                })\n",
    "            pbar.update(1)\n",
    "\n",
    "episodes_list = list(range(len(return_list)))\n",
    "plt.plot(episodes_list, return_list)\n",
    "plt.xlabel('Episodes')\n",
    "plt.ylabel('Returns')\n",
    "plt.title('DDPG with HER on {}'.format('GridWorld'))\n",
    "plt.show()"
   ]
  },
  {
   "cell_type": "markdown",
   "id": "2ff829f2-d9f7-4ced-aaa6-fcfea9093e40",
   "metadata": {},
   "source": [
    "接下来尝试不采用 HER 重新构造数据，而是直接使用收集的数据训练一个策略，看看是什么效果。"
   ]
  },
  {
   "cell_type": "code",
   "execution_count": null,
   "id": "669f430f-bc99-4c56-92fd-66e6f13d6c0b",
   "metadata": {},
   "outputs": [],
   "source": [
    "random.seed(0)\n",
    "np.random.seed(0)\n",
    "torch.manual_seed(0)\n",
    "env = WorldEnv()\n",
    "replay_buffer = ReplayBuffer_Trajectory(buffer_size)\n",
    "agent = DDPG(state_dim, hidden_dim, action_dim, action_bound, actor_lr,\n",
    "             critic_lr, sigma, tau, gamma, device)\n",
    "\n",
    "return_list = []\n",
    "for i in range(10):\n",
    "    with tqdm(total=int(num_episodes / 10), desc='Iteration %d' % i) as pbar:\n",
    "        for i_episode in range(int(num_episodes / 10)):\n",
    "            episode_return = 0\n",
    "            state = env.reset()\n",
    "            traj = Trajectory(state)\n",
    "            done = False\n",
    "            while not done:\n",
    "                action = agent.take_action(state)\n",
    "                state, reward, done = env.step(action)\n",
    "                episode_return += reward\n",
    "                traj.store_step(action, state, reward, done)\n",
    "            replay_buffer.add_trajectory(traj)\n",
    "            return_list.append(episode_return)\n",
    "            if replay_buffer.size() >= minimal_episodes:\n",
    "                for _ in range(n_train):\n",
    "                    # 和使用HER训练的唯一区别\n",
    "                    transition_dict = replay_buffer.sample(batch_size, False)\n",
    "                    agent.update(transition_dict)\n",
    "            if (i_episode + 1) % 10 == 0:\n",
    "                pbar.set_postfix({\n",
    "                    'episode':\n",
    "                    '%d' % (num_episodes / 10 * i + i_episode + 1),\n",
    "                    'return':\n",
    "                    '%.3f' % np.mean(return_list[-10:])\n",
    "                })\n",
    "            pbar.update(1)\n",
    "\n",
    "episodes_list = list(range(len(return_list)))\n",
    "plt.plot(episodes_list, return_list)\n",
    "plt.xlabel('Episodes')\n",
    "plt.ylabel('Returns')\n",
    "plt.title('DDPG without HER on {}'.format('GridWorld'))\n",
    "plt.show()"
   ]
  },
  {
   "cell_type": "markdown",
   "id": "e0bad52e-da00-474d-8e1a-82637be07138",
   "metadata": {},
   "source": [
    "通过实验对比，可以观察到使用 HER 算法后，效果有显著提升。这里 HER 算法的主要好处是通过重新对历史轨迹设置其目标（使用 future 方案）而使得奖励信号更加稠密，进而从原本失败的数据中学习到使“新任务”成功的经验，提升训练的稳定性和样本效率。"
   ]
  },
  {
   "cell_type": "markdown",
   "id": "71de380a-b7a3-4de5-9d44-59ef365bd510",
   "metadata": {},
   "source": [
    "## 19.5 小结"
   ]
  },
  {
   "cell_type": "markdown",
   "id": "e7ea8d91-05b3-4108-beb4-0ecc346023fb",
   "metadata": {},
   "source": [
    "本章介绍了目标导向的强化学习（GoRL）的基本定义，以及一个解决 GoRL 的有效的经典算法 HER。通过代码实践，HER 算法的效果得到了很好的呈现。我们从 HER 的代码实践中还可以领会一种思维方式，即可以通过整条轨迹的信息来改善每个转移片段带给智能体策略的学习价值。例如，在 HER 算法的 future 方案中，采样当前轨迹后续的状态作为目标，然后根据下一步状态是否离目标足够近来修改当前步的奖励信号。此外，HER 算法只是一个经验回放的修改方式，并没有对策略网络和价值网络的架构做出任何修改。而在后续的部分 GoRL 研究中，策略函数和动作价值函数会被显式建模成$\\pi(a|s,g)$ 和 $Q(s,a,g)$,即构建较为复杂的策略架构，使其直接知晓当前状态和目标，并使用更大的网络容量去完成目标。有兴趣的读者可以自行查阅相关的文献。"
   ]
  },
  {
   "cell_type": "code",
   "execution_count": null,
   "id": "5562d90c-73c7-4f67-86f1-dcf0e2d4ffbb",
   "metadata": {},
   "outputs": [],
   "source": []
  }
 ],
 "metadata": {
  "kernelspec": {
   "display_name": "Python 3 (ipykernel)",
   "language": "python",
   "name": "python3"
  },
  "language_info": {
   "codemirror_mode": {
    "name": "ipython",
    "version": 3
   },
   "file_extension": ".py",
   "mimetype": "text/x-python",
   "name": "python",
   "nbconvert_exporter": "python",
   "pygments_lexer": "ipython3",
   "version": "3.12.7"
  }
 },
 "nbformat": 4,
 "nbformat_minor": 5
}
