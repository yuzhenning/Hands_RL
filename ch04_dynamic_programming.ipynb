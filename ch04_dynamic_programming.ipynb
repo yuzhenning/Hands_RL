{
 "cells": [
  {
   "cell_type": "code",
   "execution_count": null,
   "id": "e675ee00-2cb2-4740-8225-5d1aa623a195",
   "metadata": {},
   "outputs": [],
   "source": [
    "第 4 章 动态规划算法"
   ]
  },
  {
   "cell_type": "code",
   "execution_count": null,
   "id": "03a3e09d-e837-4d4a-8b19-2118d9d54542",
   "metadata": {},
   "outputs": [],
   "source": [
    "4.1 简介"
   ]
  },
  {
   "cell_type": "code",
   "execution_count": null,
   "id": "03be7bcb-0771-472f-8490-71a1dce6bca5",
   "metadata": {},
   "outputs": [],
   "source": [
    "动态规划（dynamic programming）是程序设计算法中非常重要的内容，\n",
    "能够高效解决一些经典问题，例如背包问题和最短路径规划。\n",
    "动态规划的基本思想是将待求解问题分解成若干个子问题，先求解子问题，\n",
    "然后从这些子问题的解得到目标问题的解。动态规划会保存已解决的子问题的答案，在求解目标问题的过程中，\n",
    "需要这些子问题答案时就可以直接利用，避免重复计算。\n",
    "本章介绍如何用动态规划的思想来求解在马尔可夫决策过程中的最优策略。"
   ]
  },
  {
   "cell_type": "code",
   "execution_count": null,
   "id": "bd578fd4-523c-4f07-923e-fb66f3ff9345",
   "metadata": {},
   "outputs": [],
   "source": [
    "接下来一起来看一看 Cliff Walking 环境的代码吧"
   ]
  },
  {
   "cell_type": "code",
   "execution_count": 1,
   "id": "9ce0e99a-6fb7-4b15-8c4b-b2d9f99fc8df",
   "metadata": {},
   "outputs": [],
   "source": [
    "import copy\n",
    "\n",
    "\n",
    "class CliffWalkingEnv:\n",
    "    \"\"\" 悬崖漫步环境\"\"\"\n",
    "    def __init__(self, ncol=12, nrow=4):\n",
    "        self.ncol = ncol  # 定义网格世界的列\n",
    "        self.nrow = nrow  # 定义网格世界的行\n",
    "        # 转移矩阵P[state][action] = [(p, next_state, reward, done)]包含下一个状态和奖励\n",
    "        self.P = self.createP()\n",
    "\n",
    "    def createP(self):\n",
    "        # 初始化\n",
    "        P = [[[] for j in range(4)] for i in range(self.nrow * self.ncol)]\n",
    "        # 4种动作, change[0]:上,change[1]:下, change[2]:左, change[3]:右。坐标系原点(0,0)\n",
    "        # 定义在左上角\n",
    "        change = [[0, -1], [0, 1], [-1, 0], [1, 0]]\n",
    "        for i in range(self.nrow):\n",
    "            for j in range(self.ncol):\n",
    "                for a in range(4):\n",
    "                    # 位置在悬崖或者目标状态,因为无法继续交互,任何动作奖励都为0\n",
    "                    if i == self.nrow - 1 and j > 0:\n",
    "                        P[i * self.ncol + j][a] = [(1, i * self.ncol + j, 0,\n",
    "                                                    True)]\n",
    "                        continue\n",
    "                    # 其他位置\n",
    "                    next_x = min(self.ncol - 1, max(0, j + change[a][0]))\n",
    "                    next_y = min(self.nrow - 1, max(0, i + change[a][1]))\n",
    "                    next_state = next_y * self.ncol + next_x\n",
    "                    reward = -1\n",
    "                    done = False\n",
    "                    # 下一个位置在悬崖或者终点\n",
    "                    if next_y == self.nrow - 1 and next_x > 0:\n",
    "                        done = True\n",
    "                        if next_x != self.ncol - 1:  # 下一个位置在悬崖\n",
    "                            reward = -100\n",
    "                    P[i * self.ncol + j][a] = [(1, next_state, reward, done)]\n",
    "        return P"
   ]
  },
  {
   "cell_type": "code",
   "execution_count": null,
   "id": "aab4fc09-a9c6-4e5f-b001-b5afa396a377",
   "metadata": {},
   "outputs": [],
   "source": []
  }
 ],
 "metadata": {
  "kernelspec": {
   "display_name": "Python 3 (ipykernel)",
   "language": "python",
   "name": "python3"
  },
  "language_info": {
   "codemirror_mode": {
    "name": "ipython",
    "version": 3
   },
   "file_extension": ".py",
   "mimetype": "text/x-python",
   "name": "python",
   "nbconvert_exporter": "python",
   "pygments_lexer": "ipython3",
   "version": "3.12.7"
  }
 },
 "nbformat": 4,
 "nbformat_minor": 5
}
